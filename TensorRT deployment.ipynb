{
 "cells": [
  {
   "cell_type": "code",
   "execution_count": 1,
   "id": "0a772903",
   "metadata": {},
   "outputs": [
    {
     "ename": "OSError",
     "evalue": "[WinError 127] The specified procedure could not be found. Error loading \"C:\\Users\\aarya\\anaconda3\\envs\\tensorrt\\lib\\site-packages\\paddle\\..\\nvidia\\cudnn\\bin\\cudnn_engines_precompiled64_9.dll\" or one of its dependencies.",
     "output_type": "error",
     "traceback": [
      "\u001b[1;31m---------------------------------------------------------------------------\u001b[0m",
      "\u001b[1;31mOSError\u001b[0m                                   Traceback (most recent call last)",
      "Cell \u001b[1;32mIn[1], line 2\u001b[0m\n\u001b[0;32m      1\u001b[0m \u001b[38;5;28;01mfrom\u001b[39;00m \u001b[38;5;21;01multralytics\u001b[39;00m \u001b[38;5;28;01mimport\u001b[39;00m YOLO\n\u001b[1;32m----> 2\u001b[0m \u001b[38;5;28;01mfrom\u001b[39;00m \u001b[38;5;21;01mpaddleocr\u001b[39;00m \u001b[38;5;28;01mimport\u001b[39;00m PaddleOCR\n\u001b[0;32m      3\u001b[0m \u001b[38;5;28;01mimport\u001b[39;00m \u001b[38;5;21;01mcv2\u001b[39;00m\n\u001b[0;32m      4\u001b[0m \u001b[38;5;28;01mimport\u001b[39;00m \u001b[38;5;21;01mpandas\u001b[39;00m \u001b[38;5;28;01mas\u001b[39;00m \u001b[38;5;21;01mpd\u001b[39;00m\n",
      "File \u001b[1;32m~\\AppData\\Roaming\\Python\\Python310\\site-packages\\paddleocr\\__init__.py:14\u001b[0m\n\u001b[0;32m      1\u001b[0m \u001b[38;5;66;03m# Copyright (c) 2020 PaddlePaddle Authors. All Rights Reserved.\u001b[39;00m\n\u001b[0;32m      2\u001b[0m \u001b[38;5;66;03m#\u001b[39;00m\n\u001b[0;32m      3\u001b[0m \u001b[38;5;66;03m# Licensed under the Apache License, Version 2.0 (the \"License\");\u001b[39;00m\n\u001b[1;32m   (...)\u001b[0m\n\u001b[0;32m     12\u001b[0m \u001b[38;5;66;03m# See the License for the specific language governing permissions and\u001b[39;00m\n\u001b[0;32m     13\u001b[0m \u001b[38;5;66;03m# limitations under the License.\u001b[39;00m\n\u001b[1;32m---> 14\u001b[0m \u001b[38;5;28;01mfrom\u001b[39;00m \u001b[38;5;21;01m.\u001b[39;00m\u001b[38;5;21;01mpaddleocr\u001b[39;00m \u001b[38;5;28;01mimport\u001b[39;00m (\n\u001b[0;32m     15\u001b[0m     PaddleOCR,\n\u001b[0;32m     16\u001b[0m     PPStructure,\n\u001b[0;32m     17\u001b[0m     draw_ocr,\n\u001b[0;32m     18\u001b[0m     draw_structure_result,\n\u001b[0;32m     19\u001b[0m     save_structure_res,\n\u001b[0;32m     20\u001b[0m     download_with_progressbar,\n\u001b[0;32m     21\u001b[0m     sorted_layout_boxes,\n\u001b[0;32m     22\u001b[0m     convert_info_docx,\n\u001b[0;32m     23\u001b[0m     to_excel,\n\u001b[0;32m     24\u001b[0m )\n\u001b[0;32m     25\u001b[0m \u001b[38;5;28;01mimport\u001b[39;00m \u001b[38;5;21;01mimportlib\u001b[39;00m\u001b[38;5;21;01m.\u001b[39;00m\u001b[38;5;21;01mmetadata\u001b[39;00m \u001b[38;5;28;01mas\u001b[39;00m \u001b[38;5;21;01mimportlib_metadata\u001b[39;00m\n\u001b[0;32m     27\u001b[0m \u001b[38;5;28;01mtry\u001b[39;00m:\n",
      "File \u001b[1;32m~\\AppData\\Roaming\\Python\\Python310\\site-packages\\paddleocr\\paddleocr.py:21\u001b[0m\n\u001b[0;32m     17\u001b[0m \u001b[38;5;28;01mimport\u001b[39;00m \u001b[38;5;21;01mimportlib\u001b[39;00m\n\u001b[0;32m     19\u001b[0m \u001b[38;5;21m__dir__\u001b[39m \u001b[38;5;241m=\u001b[39m os\u001b[38;5;241m.\u001b[39mpath\u001b[38;5;241m.\u001b[39mdirname(\u001b[38;5;18m__file__\u001b[39m)\n\u001b[1;32m---> 21\u001b[0m \u001b[38;5;28;01mfrom\u001b[39;00m \u001b[38;5;21;01mpaddle\u001b[39;00m\u001b[38;5;21;01m.\u001b[39;00m\u001b[38;5;21;01mutils\u001b[39;00m \u001b[38;5;28;01mimport\u001b[39;00m try_import\n\u001b[0;32m     23\u001b[0m sys\u001b[38;5;241m.\u001b[39mpath\u001b[38;5;241m.\u001b[39mappend(os\u001b[38;5;241m.\u001b[39mpath\u001b[38;5;241m.\u001b[39mjoin(\u001b[38;5;21m__dir__\u001b[39m, \u001b[38;5;124m\"\u001b[39m\u001b[38;5;124m\"\u001b[39m))\n\u001b[0;32m     25\u001b[0m \u001b[38;5;28;01mimport\u001b[39;00m \u001b[38;5;21;01mcv2\u001b[39;00m\n",
      "File \u001b[1;32m~\\anaconda3\\envs\\tensorrt\\lib\\site-packages\\paddle\\__init__.py:712\u001b[0m\n\u001b[0;32m    710\u001b[0m     err \u001b[38;5;241m=\u001b[39m ctypes\u001b[38;5;241m.\u001b[39mWinError(last_error)\n\u001b[0;32m    711\u001b[0m     err\u001b[38;5;241m.\u001b[39mstrerror \u001b[38;5;241m+\u001b[39m\u001b[38;5;241m=\u001b[39m \u001b[38;5;124mf\u001b[39m\u001b[38;5;124m'\u001b[39m\u001b[38;5;124m Error loading \u001b[39m\u001b[38;5;124m\"\u001b[39m\u001b[38;5;132;01m{\u001b[39;00mdll\u001b[38;5;132;01m}\u001b[39;00m\u001b[38;5;124m\"\u001b[39m\u001b[38;5;124m or one of its dependencies.\u001b[39m\u001b[38;5;124m'\u001b[39m\n\u001b[1;32m--> 712\u001b[0m     \u001b[38;5;28;01mraise\u001b[39;00m err\n\u001b[0;32m    713\u001b[0m \u001b[38;5;28;01melif\u001b[39;00m res \u001b[38;5;129;01mis\u001b[39;00m \u001b[38;5;129;01mnot\u001b[39;00m \u001b[38;5;28;01mNone\u001b[39;00m:\n\u001b[0;32m    714\u001b[0m     is_loaded \u001b[38;5;241m=\u001b[39m \u001b[38;5;28;01mTrue\u001b[39;00m\n",
      "\u001b[1;31mOSError\u001b[0m: [WinError 127] The specified procedure could not be found. Error loading \"C:\\Users\\aarya\\anaconda3\\envs\\tensorrt\\lib\\site-packages\\paddle\\..\\nvidia\\cudnn\\bin\\cudnn_engines_precompiled64_9.dll\" or one of its dependencies."
     ]
    }
   ],
   "source": [
    "from ultralytics import YOLO\n",
    "from paddleocr import PaddleOCR\n",
    "import cv2\n",
    "import pandas as pd"
   ]
  },
  {
   "cell_type": "code",
   "execution_count": 1,
   "id": "f926eda9",
   "metadata": {},
   "outputs": [
    {
     "name": "stdout",
     "output_type": "stream",
     "text": [
      "[2024/12/19 12:06:44] ppocr DEBUG: Namespace(help='==SUPPRESS==', use_gpu=True, use_xpu=False, use_npu=False, use_mlu=False, ir_optim=True, use_tensorrt=True, min_subgraph_size=15, precision='fp32', gpu_mem=500, gpu_id=0, image_dir=None, page_num=0, det_algorithm='DB', det_model_dir='det_infer_trt', det_limit_side_len=960, det_limit_type='max', det_box_type='quad', det_db_thresh=0.3, det_db_box_thresh=0.6, det_db_unclip_ratio=1.5, max_batch_size=10, use_dilation=False, det_db_score_mode='fast', det_east_score_thresh=0.8, det_east_cover_thresh=0.1, det_east_nms_thresh=0.2, det_sast_score_thresh=0.5, det_sast_nms_thresh=0.2, det_pse_thresh=0, det_pse_box_thresh=0.85, det_pse_min_area=16, det_pse_scale=1, scales=[8, 16, 32], alpha=1.0, beta=1.0, fourier_degree=5, rec_algorithm='SVTR_LCNet', rec_model_dir='rec_infer_trt', rec_image_inverse=True, rec_image_shape='3, 48, 320', rec_batch_num=6, max_text_length=25, rec_char_dict_path='C:\\\\Users\\\\aarya\\\\anaconda3\\\\envs\\\\paddleocr\\\\lib\\\\site-packages\\\\paddleocr\\\\ppocr\\\\utils\\\\ppocr_keys_v1.txt', use_space_char=True, vis_font_path='./doc/fonts/simfang.ttf', drop_score=0.5, e2e_algorithm='PGNet', e2e_model_dir=None, e2e_limit_side_len=768, e2e_limit_type='max', e2e_pgnet_score_thresh=0.5, e2e_char_dict_path='./ppocr/utils/ic15_dict.txt', e2e_pgnet_valid_set='totaltext', e2e_pgnet_mode='fast', use_angle_cls=False, cls_model_dir='C:\\\\Users\\\\aarya/.paddleocr/whl\\\\cls\\\\ch_ppocr_mobile_v2.0_cls_infer', cls_image_shape='3, 48, 192', label_list=['0', '180'], cls_batch_num=6, cls_thresh=0.9, enable_mkldnn=False, cpu_threads=10, use_pdserving=False, warmup=False, sr_model_dir=None, sr_image_shape='3, 32, 128', sr_batch_num=1, draw_img_save_dir='./inference_results', save_crop_res=False, crop_res_save_dir='./output', use_mp=False, total_process_num=1, process_id=0, benchmark=False, save_log_path='./log_output/', show_log=True, use_onnx=False, return_word_box=False, output='./output', table_max_len=488, table_algorithm='TableAttn', table_model_dir=None, merge_no_span_structure=True, table_char_dict_path=None, formula_algorithm='LaTeXOCR', formula_model_dir=None, formula_char_dict_path=None, formula_batch_num=1, layout_model_dir=None, layout_dict_path=None, layout_score_threshold=0.5, layout_nms_threshold=0.5, kie_algorithm='LayoutXLM', ser_model_dir=None, re_model_dir=None, use_visual_backbone=True, ser_dict_path='../train_data/XFUND/class_list_xfun.txt', ocr_order_method=None, mode='structure', image_orientation=False, layout=True, table=True, formula=False, ocr=True, recovery=False, recovery_to_markdown=False, use_pdf2docx_api=False, invert=False, binarize=False, alphacolor=(255, 255, 255), lang='ch', det=True, rec=True, type='ocr', savefile=False, ocr_version='PP-OCRv4', structure_version='PP-StructureV2')\n",
      "[2024/12/19 12:06:44] ppocr WARNING: The first GPU is used for inference by default, GPU ID: 0\n"
     ]
    },
    {
     "ename": "RuntimeError",
     "evalue": "(NotFound) TensorRT is needed, but TensorRT dynamic library is not found.\n  Suggestions:\n  1. Check if the TensorRT is installed correctly and its version is matched with paddlepaddle you installed.\n  2. Configure environment variables as follows:\n  - Linux: set LD_LIBRARY_PATH by `export LD_LIBRARY_PATH=...`\n  - Windows: set PATH by `set PATH=XXX;\n  [Hint: dso_handle should not be null.] (at ..\\paddle\\fluid\\platform\\dynload\\tensorrt.cc:57)\n",
     "output_type": "error",
     "traceback": [
      "\u001b[1;31m---------------------------------------------------------------------------\u001b[0m",
      "\u001b[1;31mRuntimeError\u001b[0m                              Traceback (most recent call last)",
      "Cell \u001b[1;32mIn[1], line 8\u001b[0m\n\u001b[0;32m      6\u001b[0m \u001b[38;5;66;03m# Load optimized models once\u001b[39;00m\n\u001b[0;32m      7\u001b[0m yolo_model \u001b[38;5;241m=\u001b[39m YOLO(\u001b[38;5;124m'\u001b[39m\u001b[38;5;124mruns/obb/train/weights/best.engine\u001b[39m\u001b[38;5;124m'\u001b[39m)\n\u001b[1;32m----> 8\u001b[0m ocr \u001b[38;5;241m=\u001b[39m \u001b[43mPaddleOCR\u001b[49m\u001b[43m(\u001b[49m\n\u001b[0;32m      9\u001b[0m \u001b[43m    \u001b[49m\u001b[43mdet_model_dir\u001b[49m\u001b[38;5;241;43m=\u001b[39;49m\u001b[38;5;124;43m'\u001b[39;49m\u001b[38;5;124;43mdet_infer_trt\u001b[39;49m\u001b[38;5;124;43m'\u001b[39;49m\u001b[43m,\u001b[49m\n\u001b[0;32m     10\u001b[0m \u001b[43m    \u001b[49m\u001b[43mrec_model_dir\u001b[49m\u001b[38;5;241;43m=\u001b[39;49m\u001b[38;5;124;43m'\u001b[39;49m\u001b[38;5;124;43mrec_infer_trt\u001b[39;49m\u001b[38;5;124;43m'\u001b[39;49m\u001b[43m,\u001b[49m\u001b[43m \u001b[49m\n\u001b[0;32m     11\u001b[0m \u001b[43m    \u001b[49m\u001b[43muse_gpu\u001b[49m\u001b[38;5;241;43m=\u001b[39;49m\u001b[38;5;28;43;01mTrue\u001b[39;49;00m\u001b[43m,\u001b[49m\n\u001b[0;32m     12\u001b[0m \u001b[43m    \u001b[49m\u001b[43muse_tensorrt\u001b[49m\u001b[38;5;241;43m=\u001b[39;49m\u001b[38;5;28;43;01mTrue\u001b[39;49;00m\u001b[43m,\u001b[49m\n\u001b[0;32m     13\u001b[0m \u001b[43m    \u001b[49m\u001b[43mgpu_mem\u001b[49m\u001b[38;5;241;43m=\u001b[39;49m\u001b[38;5;241;43m500\u001b[39;49m\n\u001b[0;32m     14\u001b[0m \u001b[43m)\u001b[49m\n\u001b[0;32m     16\u001b[0m \u001b[38;5;28;01mdef\u001b[39;00m \u001b[38;5;21mprocess_image\u001b[39m(image):\n\u001b[0;32m     17\u001b[0m     predictions \u001b[38;5;241m=\u001b[39m yolo_model(image)[\u001b[38;5;241m0\u001b[39m]\n",
      "File \u001b[1;32m~\\anaconda3\\envs\\paddleocr\\lib\\site-packages\\paddleocr\\paddleocr.py:687\u001b[0m, in \u001b[0;36mPaddleOCR.__init__\u001b[1;34m(self, **kwargs)\u001b[0m\n\u001b[0;32m    685\u001b[0m logger\u001b[38;5;241m.\u001b[39mdebug(params)\n\u001b[0;32m    686\u001b[0m \u001b[38;5;66;03m# init det_model and rec_model\u001b[39;00m\n\u001b[1;32m--> 687\u001b[0m \u001b[38;5;28;43msuper\u001b[39;49m\u001b[43m(\u001b[49m\u001b[43m)\u001b[49m\u001b[38;5;241;43m.\u001b[39;49m\u001b[38;5;21;43m__init__\u001b[39;49m\u001b[43m(\u001b[49m\u001b[43mparams\u001b[49m\u001b[43m)\u001b[49m\n\u001b[0;32m    688\u001b[0m \u001b[38;5;28mself\u001b[39m\u001b[38;5;241m.\u001b[39mpage_num \u001b[38;5;241m=\u001b[39m params\u001b[38;5;241m.\u001b[39mpage_num\n",
      "File \u001b[1;32m~\\anaconda3\\envs\\paddleocr\\lib\\site-packages\\paddleocr\\tools\\infer\\predict_system.py:53\u001b[0m, in \u001b[0;36mTextSystem.__init__\u001b[1;34m(self, args)\u001b[0m\n\u001b[0;32m     50\u001b[0m \u001b[38;5;28;01mif\u001b[39;00m \u001b[38;5;129;01mnot\u001b[39;00m args\u001b[38;5;241m.\u001b[39mshow_log:\n\u001b[0;32m     51\u001b[0m     logger\u001b[38;5;241m.\u001b[39msetLevel(logging\u001b[38;5;241m.\u001b[39mINFO)\n\u001b[1;32m---> 53\u001b[0m \u001b[38;5;28mself\u001b[39m\u001b[38;5;241m.\u001b[39mtext_detector \u001b[38;5;241m=\u001b[39m \u001b[43mpredict_det\u001b[49m\u001b[38;5;241;43m.\u001b[39;49m\u001b[43mTextDetector\u001b[49m\u001b[43m(\u001b[49m\u001b[43margs\u001b[49m\u001b[43m)\u001b[49m\n\u001b[0;32m     54\u001b[0m \u001b[38;5;28mself\u001b[39m\u001b[38;5;241m.\u001b[39mtext_recognizer \u001b[38;5;241m=\u001b[39m predict_rec\u001b[38;5;241m.\u001b[39mTextRecognizer(args)\n\u001b[0;32m     55\u001b[0m \u001b[38;5;28mself\u001b[39m\u001b[38;5;241m.\u001b[39muse_angle_cls \u001b[38;5;241m=\u001b[39m args\u001b[38;5;241m.\u001b[39muse_angle_cls\n",
      "File \u001b[1;32m~\\anaconda3\\envs\\paddleocr\\lib\\site-packages\\paddleocr\\tools\\infer\\predict_det.py:139\u001b[0m, in \u001b[0;36mTextDetector.__init__\u001b[1;34m(self, args, logger)\u001b[0m\n\u001b[0;32m    132\u001b[0m \u001b[38;5;28mself\u001b[39m\u001b[38;5;241m.\u001b[39mpreprocess_op \u001b[38;5;241m=\u001b[39m create_operators(pre_process_list)\n\u001b[0;32m    133\u001b[0m \u001b[38;5;28mself\u001b[39m\u001b[38;5;241m.\u001b[39mpostprocess_op \u001b[38;5;241m=\u001b[39m build_post_process(postprocess_params)\n\u001b[0;32m    134\u001b[0m (\n\u001b[0;32m    135\u001b[0m     \u001b[38;5;28mself\u001b[39m\u001b[38;5;241m.\u001b[39mpredictor,\n\u001b[0;32m    136\u001b[0m     \u001b[38;5;28mself\u001b[39m\u001b[38;5;241m.\u001b[39minput_tensor,\n\u001b[0;32m    137\u001b[0m     \u001b[38;5;28mself\u001b[39m\u001b[38;5;241m.\u001b[39moutput_tensors,\n\u001b[0;32m    138\u001b[0m     \u001b[38;5;28mself\u001b[39m\u001b[38;5;241m.\u001b[39mconfig,\n\u001b[1;32m--> 139\u001b[0m ) \u001b[38;5;241m=\u001b[39m \u001b[43mutility\u001b[49m\u001b[38;5;241;43m.\u001b[39;49m\u001b[43mcreate_predictor\u001b[49m\u001b[43m(\u001b[49m\u001b[43margs\u001b[49m\u001b[43m,\u001b[49m\u001b[43m \u001b[49m\u001b[38;5;124;43m\"\u001b[39;49m\u001b[38;5;124;43mdet\u001b[39;49m\u001b[38;5;124;43m\"\u001b[39;49m\u001b[43m,\u001b[49m\u001b[43m \u001b[49m\u001b[43mlogger\u001b[49m\u001b[43m)\u001b[49m\n\u001b[0;32m    141\u001b[0m \u001b[38;5;28;01mif\u001b[39;00m \u001b[38;5;28mself\u001b[39m\u001b[38;5;241m.\u001b[39muse_onnx:\n\u001b[0;32m    142\u001b[0m     img_h, img_w \u001b[38;5;241m=\u001b[39m \u001b[38;5;28mself\u001b[39m\u001b[38;5;241m.\u001b[39minput_tensor\u001b[38;5;241m.\u001b[39mshape[\u001b[38;5;241m2\u001b[39m:]\n",
      "File \u001b[1;32m~\\anaconda3\\envs\\paddleocr\\lib\\site-packages\\paddleocr\\tools\\infer\\utility.py:304\u001b[0m, in \u001b[0;36mcreate_predictor\u001b[1;34m(args, mode, logger)\u001b[0m\n\u001b[0;32m    301\u001b[0m config\u001b[38;5;241m.\u001b[39mswitch_ir_optim(\u001b[38;5;28;01mTrue\u001b[39;00m)\n\u001b[0;32m    303\u001b[0m \u001b[38;5;66;03m# create predictor\u001b[39;00m\n\u001b[1;32m--> 304\u001b[0m predictor \u001b[38;5;241m=\u001b[39m \u001b[43minference\u001b[49m\u001b[38;5;241;43m.\u001b[39;49m\u001b[43mcreate_predictor\u001b[49m\u001b[43m(\u001b[49m\u001b[43mconfig\u001b[49m\u001b[43m)\u001b[49m\n\u001b[0;32m    305\u001b[0m input_names \u001b[38;5;241m=\u001b[39m predictor\u001b[38;5;241m.\u001b[39mget_input_names()\n\u001b[0;32m    306\u001b[0m \u001b[38;5;28;01mif\u001b[39;00m mode \u001b[38;5;129;01min\u001b[39;00m [\u001b[38;5;124m\"\u001b[39m\u001b[38;5;124mser\u001b[39m\u001b[38;5;124m\"\u001b[39m, \u001b[38;5;124m\"\u001b[39m\u001b[38;5;124mre\u001b[39m\u001b[38;5;124m\"\u001b[39m]:\n",
      "\u001b[1;31mRuntimeError\u001b[0m: (NotFound) TensorRT is needed, but TensorRT dynamic library is not found.\n  Suggestions:\n  1. Check if the TensorRT is installed correctly and its version is matched with paddlepaddle you installed.\n  2. Configure environment variables as follows:\n  - Linux: set LD_LIBRARY_PATH by `export LD_LIBRARY_PATH=...`\n  - Windows: set PATH by `set PATH=XXX;\n  [Hint: dso_handle should not be null.] (at ..\\paddle\\fluid\\platform\\dynload\\tensorrt.cc:57)\n"
     ]
    }
   ],
   "source": [
    "# Load optimized models once\n",
    "yolo_model = YOLO('runs/obb/train/weights/best.engine')\n",
    "ocr = PaddleOCR(\n",
    "    det_model_dir='det_infer_trt',\n",
    "    rec_model_dir='rec_infer_trt', \n",
    "    use_gpu=True,\n",
    "    use_tensorrt=True,\n",
    "    gpu_mem=500\n",
    ")\n",
    "\n",
    "def process_image(image):\n",
    "    predictions = yolo_model(image)[0]\n",
    "    results = {'GTIN': '', 'SR_NO': '', 'LOT': '', 'EXP': ''}\n",
    "    \n",
    "    if predictions.obb:\n",
    "        boxes = predictions.obb.xyxyxyxy.cpu().numpy()\n",
    "        classes = predictions.obb.cls.cpu().numpy()\n",
    "        \n",
    "        for box, cls_id in zip(boxes, classes):\n",
    "            box_int = box.astype(np.int32)\n",
    "            x_min, y_min = np.min(box_int, axis=0)\n",
    "            x_max, y_max = np.max(box_int, axis=0)\n",
    "            \n",
    "            roi = image[y_min:y_max, x_min:x_max]\n",
    "            result = ocr.ocr(roi)\n",
    "            \n",
    "            if result[0]:\n",
    "                text = result[0][0][1][0].strip()\n",
    "                class_name = yolo_model.names[int(cls_id)]\n",
    "                results[class_name] = clean_text(text, class_name)\n",
    "                \n",
    "    return results\n",
    "\n",
    "# Use with webcam/video stream\n",
    "def process_video():\n",
    "    cap = cv2.VideoCapture(0)\n",
    "    while True:\n",
    "        ret, frame = cap.read()\n",
    "        if not ret:\n",
    "            break\n",
    "        results = process_image(frame)\n",
    "        # Add visualization/processing logic"
   ]
  },
  {
   "cell_type": "code",
   "execution_count": null,
   "id": "4b19b74f",
   "metadata": {},
   "outputs": [],
   "source": []
  }
 ],
 "metadata": {
  "kernelspec": {
   "display_name": "Python 3 (ipykernel)",
   "language": "python",
   "name": "python3"
  },
  "language_info": {
   "codemirror_mode": {
    "name": "ipython",
    "version": 3
   },
   "file_extension": ".py",
   "mimetype": "text/x-python",
   "name": "python",
   "nbconvert_exporter": "python",
   "pygments_lexer": "ipython3",
   "version": "3.10.16"
  }
 },
 "nbformat": 4,
 "nbformat_minor": 5
}
