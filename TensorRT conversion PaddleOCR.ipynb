{
 "cells": [
  {
   "cell_type": "code",
   "execution_count": 1,
   "id": "65aa16b1",
   "metadata": {},
   "outputs": [],
   "source": [
    "from paddleocr import PaddleOCR\n",
    "import paddle.inference as paddle_infer\n",
    "\n",
    "config = paddle_infer.Config(\n",
    "    'ch_PP-OCRv3_det_infer/model',  # Your det model path \n",
    "    'ch_PP-OCRv3_det_infer/params'\n",
    ")\n",
    "\n",
    "config.enable_use_gpu(500, 0)  # Memory size, GPU ID\n",
    "config.enable_tensorrt_engine(\n",
    "    workspace_size=1<<30,\n",
    "    precision_mode=paddle_infer.PrecisionType.Half,  # FP16 \n",
    "    max_batch_size=1,\n",
    "    min_subgraph_size=3\n",
    ")"
   ]
  },
  {
   "cell_type": "code",
   "execution_count": 2,
   "id": "09391672",
   "metadata": {},
   "outputs": [],
   "source": [
    "config = paddle_infer.Config(\n",
    "    'en_PP-OCRv4_rec_infer/model',  # Your rec model path\n",
    "    'en_PP-OCRv4_rec_infer/params'\n",
    ")\n",
    "\n",
    "config.enable_use_gpu(500, 0)\n",
    "config.enable_tensorrt_engine(\n",
    "    workspace_size=1<<30,\n",
    "    precision_mode=paddle_infer.PrecisionType.Half,\n",
    "    max_batch_size=1, \n",
    "    min_subgraph_size=3\n",
    ")"
   ]
  },
  {
   "cell_type": "code",
   "execution_count": 3,
   "id": "6e3c0037",
   "metadata": {},
   "outputs": [
    {
     "name": "stdout",
     "output_type": "stream",
     "text": [
      "download https://paddleocr.bj.bcebos.com/PP-OCRv4/chinese/ch_PP-OCRv4_det_infer.tar to det_infer_trt\\ch_PP-OCRv4_det_infer.tar\n"
     ]
    },
    {
     "name": "stderr",
     "output_type": "stream",
     "text": [
      "100%|██████████| 4780/4780 [00:19<00:00, 245.53it/s] \n"
     ]
    },
    {
     "name": "stdout",
     "output_type": "stream",
     "text": [
      "download https://paddleocr.bj.bcebos.com/PP-OCRv4/chinese/ch_PP-OCRv4_rec_infer.tar to rec_infer_trt\\ch_PP-OCRv4_rec_infer.tar\n"
     ]
    },
    {
     "name": "stderr",
     "output_type": "stream",
     "text": [
      "100%|██████████| 10720/10720 [00:14<00:00, 742.54it/s] "
     ]
    },
    {
     "name": "stdout",
     "output_type": "stream",
     "text": [
      "[2024/11/30 12:37:58] ppocr DEBUG: Namespace(help='==SUPPRESS==', use_gpu=True, use_xpu=False, use_npu=False, use_mlu=False, ir_optim=True, use_tensorrt=True, min_subgraph_size=15, precision='fp32', gpu_mem=500, gpu_id=0, image_dir=None, page_num=0, det_algorithm='DB', det_model_dir='det_infer_trt', det_limit_side_len=960, det_limit_type='max', det_box_type='quad', det_db_thresh=0.3, det_db_box_thresh=0.6, det_db_unclip_ratio=1.5, max_batch_size=10, use_dilation=False, det_db_score_mode='fast', det_east_score_thresh=0.8, det_east_cover_thresh=0.1, det_east_nms_thresh=0.2, det_sast_score_thresh=0.5, det_sast_nms_thresh=0.2, det_pse_thresh=0, det_pse_box_thresh=0.85, det_pse_min_area=16, det_pse_scale=1, scales=[8, 16, 32], alpha=1.0, beta=1.0, fourier_degree=5, rec_algorithm='SVTR_LCNet', rec_model_dir='rec_infer_trt', rec_image_inverse=True, rec_image_shape='3, 48, 320', rec_batch_num=6, max_text_length=25, rec_char_dict_path='C:\\\\Users\\\\aarya\\\\anaconda3\\\\envs\\\\paddleocr\\\\lib\\\\site-packages\\\\paddleocr\\\\ppocr\\\\utils\\\\ppocr_keys_v1.txt', use_space_char=True, vis_font_path='./doc/fonts/simfang.ttf', drop_score=0.5, e2e_algorithm='PGNet', e2e_model_dir=None, e2e_limit_side_len=768, e2e_limit_type='max', e2e_pgnet_score_thresh=0.5, e2e_char_dict_path='./ppocr/utils/ic15_dict.txt', e2e_pgnet_valid_set='totaltext', e2e_pgnet_mode='fast', use_angle_cls=False, cls_model_dir='C:\\\\Users\\\\aarya/.paddleocr/whl\\\\cls\\\\ch_ppocr_mobile_v2.0_cls_infer', cls_image_shape='3, 48, 192', label_list=['0', '180'], cls_batch_num=6, cls_thresh=0.9, enable_mkldnn=False, cpu_threads=10, use_pdserving=False, warmup=False, sr_model_dir=None, sr_image_shape='3, 32, 128', sr_batch_num=1, draw_img_save_dir='./inference_results', save_crop_res=False, crop_res_save_dir='./output', use_mp=False, total_process_num=1, process_id=0, benchmark=False, save_log_path='./log_output/', show_log=True, use_onnx=False, return_word_box=False, output='./output', table_max_len=488, table_algorithm='TableAttn', table_model_dir=None, merge_no_span_structure=True, table_char_dict_path=None, formula_algorithm='LaTeXOCR', formula_model_dir=None, formula_char_dict_path=None, formula_batch_num=1, layout_model_dir=None, layout_dict_path=None, layout_score_threshold=0.5, layout_nms_threshold=0.5, kie_algorithm='LayoutXLM', ser_model_dir=None, re_model_dir=None, use_visual_backbone=True, ser_dict_path='../train_data/XFUND/class_list_xfun.txt', ocr_order_method=None, mode='structure', image_orientation=False, layout=True, table=True, formula=False, ocr=True, recovery=False, recovery_to_markdown=False, use_pdf2docx_api=False, invert=False, binarize=False, alphacolor=(255, 255, 255), lang='ch', det=True, rec=True, type='ocr', savefile=False, ocr_version='PP-OCRv4', structure_version='PP-StructureV2', rec_thresh=0.65)\n",
      "[2024/11/30 12:37:58] ppocr WARNING: The first GPU is used for inference by default, GPU ID: 0\n",
      "[2024/11/30 12:37:58] ppocr INFO: collect dynamic shape info into : det_infer_trt\\det_trt_dynamic_shape.txt\n"
     ]
    },
    {
     "name": "stderr",
     "output_type": "stream",
     "text": [
      "\n"
     ]
    },
    {
     "name": "stdout",
     "output_type": "stream",
     "text": [
      "[2024/11/30 12:37:59] ppocr WARNING: The first GPU is used for inference by default, GPU ID: 0\n",
      "[2024/11/30 12:37:59] ppocr INFO: collect dynamic shape info into : rec_infer_trt\\rec_trt_dynamic_shape.txt\n"
     ]
    }
   ],
   "source": [
    "ocr = PaddleOCR(\n",
    "    det_model_dir='det_infer_trt',\n",
    "    rec_model_dir='rec_infer_trt',\n",
    "    use_gpu=True,\n",
    "    use_tensorrt=True,  \n",
    "    gpu_mem=500,\n",
    "    det_db_thresh=0.3,\n",
    "    rec_thresh=0.65\n",
    ")"
   ]
  },
  {
   "cell_type": "code",
   "execution_count": null,
   "id": "2a1e6eb7",
   "metadata": {},
   "outputs": [],
   "source": []
  }
 ],
 "metadata": {
  "kernelspec": {
   "display_name": "Python 3 (ipykernel)",
   "language": "python",
   "name": "python3"
  },
  "language_info": {
   "codemirror_mode": {
    "name": "ipython",
    "version": 3
   },
   "file_extension": ".py",
   "mimetype": "text/x-python",
   "name": "python",
   "nbconvert_exporter": "python",
   "pygments_lexer": "ipython3",
   "version": "3.10.15"
  }
 },
 "nbformat": 4,
 "nbformat_minor": 5
}
