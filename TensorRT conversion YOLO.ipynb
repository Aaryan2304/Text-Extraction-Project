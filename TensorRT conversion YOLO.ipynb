{
 "cells": [
  {
   "cell_type": "code",
   "execution_count": 1,
   "id": "95408c5c",
   "metadata": {},
   "outputs": [
    {
     "name": "stdout",
     "output_type": "stream",
     "text": [
      "Ultralytics 8.3.36  Python-3.10.15 torch-2.5.1 CUDA:0 (NVIDIA GeForce RTX 3050 Ti Laptop GPU, 4096MiB)\n",
      "YOLO11n-obb summary (fused): 257 layers, 2,654,503 parameters, 0 gradients, 6.6 GFLOPs\n",
      "\n",
      "\u001b[34m\u001b[1mPyTorch:\u001b[0m starting from 'runs\\obb\\train\\weights\\best.pt' with input shape (1, 3, 640, 640) BCHW and output shape(s) (1, 9, 8400) (5.7 MB)\n",
      "\n",
      "\u001b[34m\u001b[1mONNX:\u001b[0m starting export with onnx 1.17.0 opset 19...\n",
      "\u001b[34m\u001b[1mONNX:\u001b[0m slimming with onnxslim 0.1.41...\n",
      "\u001b[34m\u001b[1mONNX:\u001b[0m export success  3.7s, saved as 'runs\\obb\\train\\weights\\best.onnx' (10.3 MB)\n",
      "\n",
      "\u001b[34m\u001b[1mTensorRT:\u001b[0m starting export with TensorRT 10.6.0.post1...\n",
      "\u001b[34m\u001b[1mTensorRT:\u001b[0m input \"images\" with shape(1, 3, 640, 640) DataType.FLOAT\n",
      "\u001b[34m\u001b[1mTensorRT:\u001b[0m output \"output0\" with shape(1, 9, 8400) DataType.FLOAT\n",
      "\u001b[34m\u001b[1mTensorRT:\u001b[0m building FP16 engine as runs\\obb\\train\\weights\\best.engine\n",
      "\u001b[34m\u001b[1mTensorRT:\u001b[0m export success  418.8s, saved as 'runs\\obb\\train\\weights\\best.engine' (10.7 MB)\n",
      "\n",
      "Export complete (420.5s)\n",
      "Results saved to \u001b[1mC:\\Users\\aarya\\Videos\\New PaddleOCR\\runs\\obb\\train\\weights\u001b[0m\n",
      "Predict:         yolo predict task=obb model=runs\\obb\\train\\weights\\best.engine imgsz=640 half \n",
      "Validate:        yolo val task=obb model=runs\\obb\\train\\weights\\best.engine imgsz=640 data=data.yaml half \n",
      "Visualize:       https://netron.app\n"
     ]
    },
    {
     "data": {
      "text/plain": [
       "'runs\\\\obb\\\\train\\\\weights\\\\best.engine'"
      ]
     },
     "execution_count": 1,
     "metadata": {},
     "output_type": "execute_result"
    }
   ],
   "source": [
    "# Export YOLOv8 model to TensorRT\n",
    "from ultralytics import YOLO\n",
    "\n",
    "# Load your trained model\n",
    "model = YOLO('runs/obb/train/weights/best.pt')\n",
    "\n",
    "# Export to TensorRT (FP16 for better performance)\n",
    "model.export(format='engine', device=0, half=True)"
   ]
  },
  {
   "cell_type": "code",
   "execution_count": null,
   "id": "5b77830a",
   "metadata": {},
   "outputs": [],
   "source": []
  }
 ],
 "metadata": {
  "kernelspec": {
   "display_name": "Python 3 (ipykernel)",
   "language": "python",
   "name": "python3"
  },
  "language_info": {
   "codemirror_mode": {
    "name": "ipython",
    "version": 3
   },
   "file_extension": ".py",
   "mimetype": "text/x-python",
   "name": "python",
   "nbconvert_exporter": "python",
   "pygments_lexer": "ipython3",
   "version": "3.10.15"
  }
 },
 "nbformat": 4,
 "nbformat_minor": 5
}
