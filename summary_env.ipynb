{
 "cells": [
  {
   "cell_type": "code",
   "execution_count": 1,
   "id": "4ddace08",
   "metadata": {},
   "outputs": [],
   "source": [
    "# Copyright (c) 2020 PaddlePaddle Authors. All Rights Reserved.\n",
    "#\n",
    "# Licensed under the Apache License, Version 2.0 (the \"License\");\n",
    "# you may not use this file except in compliance with the License.\n",
    "# You may obtain a copy of the License at\n",
    "#\n",
    "#     http://www.apache.org/licenses/LICENSE-2.0\n",
    "#\n",
    "# Unless required by applicable law or agreed to in writing, software\n",
    "# distributed under the License is distributed on an \"AS IS\" BASIS,\n",
    "# WITHOUT WARRANTIES OR CONDITIONS OF ANY KIND, either express or implied.\n",
    "# See the License for the specific language governing permissions and\n",
    "# limitations under the License.\n",
    "import platform\n",
    "import subprocess\n",
    "import sys"
   ]
  },
  {
   "cell_type": "code",
   "execution_count": 3,
   "id": "37db930a",
   "metadata": {},
   "outputs": [],
   "source": [
    "import distro"
   ]
  },
  {
   "cell_type": "code",
   "execution_count": 4,
   "id": "ae522943",
   "metadata": {},
   "outputs": [],
   "source": [
    "envs_template = \"\"\"\n",
    "Paddle version: {paddle_version}\n",
    "Paddle With CUDA: {paddle_with_cuda}\n",
    "\n",
    "OS: {os_info}\n",
    "GCC version: {gcc_version}\n",
    "Clang version: {clang_version}\n",
    "CMake version: {cmake_version}\n",
    "Libc version: {libc_version}\n",
    "Python version: {python_version}\n",
    "\n",
    "CUDA version: {cuda_version}\n",
    "cuDNN version: {cudnn_version}\n",
    "Nvidia driver version: {nvidia_driver_version}\n",
    "Nvidia driver List: {nvidia_gpu_driver}\n",
    "\"\"\""
   ]
  },
  {
   "cell_type": "code",
   "execution_count": 5,
   "id": "5ab1ebd4",
   "metadata": {},
   "outputs": [],
   "source": [
    "envs = {}"
   ]
  },
  {
   "cell_type": "code",
   "execution_count": 6,
   "id": "54b4f895",
   "metadata": {},
   "outputs": [],
   "source": [
    "def get_paddle_info():\n",
    "    try:\n",
    "        import paddle\n",
    "\n",
    "        envs['paddle_version'] = paddle.__version__\n",
    "        envs['paddle_with_cuda'] = paddle.base.core.is_compiled_with_cuda()\n",
    "    except:\n",
    "        envs['paddle_version'] = 'N/A'\n",
    "        envs['paddle_with_cuda'] = 'N/A'"
   ]
  },
  {
   "cell_type": "code",
   "execution_count": 7,
   "id": "08315234",
   "metadata": {},
   "outputs": [],
   "source": [
    "def get_os_info():\n",
    "    if platform.system() == \"Darwin\":\n",
    "        plat = \"macOS\"\n",
    "        ver = run_shell_command('sw_vers -productVersion').strip('\\n')\n",
    "    elif platform.system() == \"Linux\":\n",
    "        plat = distro.id()\n",
    "        ver = distro.version()\n",
    "    elif platform.system() == \"Windows\":\n",
    "        plat = \"Windows\"\n",
    "        ver = platform.win32_ver()[0]\n",
    "    else:\n",
    "        plat = 'N/A'\n",
    "        ver = 'N/A'\n",
    "    envs['os_info'] = f\"{plat} {ver}\""
   ]
  },
  {
   "cell_type": "code",
   "execution_count": 8,
   "id": "0d3b96b4",
   "metadata": {},
   "outputs": [],
   "source": [
    "def get_gcc_version():\n",
    "    try:\n",
    "        envs['gcc_version'] = (\n",
    "            run_shell_command(\"gcc --version\").split('\\n')[0].split(\"gcc \")[1]\n",
    "        )\n",
    "    except:\n",
    "        envs['gcc_version'] = 'N/A'"
   ]
  },
  {
   "cell_type": "code",
   "execution_count": 9,
   "id": "dd96ddce",
   "metadata": {},
   "outputs": [],
   "source": [
    "def get_clang_version():\n",
    "    try:\n",
    "        envs['clang_version'] = (\n",
    "            run_shell_command(\"clang --version\")\n",
    "            .split('\\n')[0]\n",
    "            .split(\"clang version \")[1]\n",
    "        )\n",
    "    except:\n",
    "        envs['clang_version'] = 'N/A'"
   ]
  },
  {
   "cell_type": "code",
   "execution_count": 10,
   "id": "9f4a6cd1",
   "metadata": {},
   "outputs": [],
   "source": [
    "def get_cmake_version():\n",
    "    try:\n",
    "        envs['cmake_version'] = (\n",
    "            run_shell_command(\"cmake --version\")\n",
    "            .split('\\n')[0]\n",
    "            .split(\"cmake \")[1]\n",
    "        )\n",
    "    except:\n",
    "        envs['cmake_version'] = 'N/A'"
   ]
  },
  {
   "cell_type": "code",
   "execution_count": 11,
   "id": "b4f2b8a3",
   "metadata": {},
   "outputs": [],
   "source": [
    "def get_libc_version():\n",
    "    if platform.system() == \"Linux\":\n",
    "        envs['libc_version'] = ' '.join(platform.libc_ver())\n",
    "    else:\n",
    "        envs['libc_version'] = 'N/A'"
   ]
  },
  {
   "cell_type": "code",
   "execution_count": 12,
   "id": "3bccb7d5",
   "metadata": {},
   "outputs": [],
   "source": [
    "def get_python_info():\n",
    "    envs['python_version'] = sys.version.split(' ')[0]"
   ]
  },
  {
   "cell_type": "code",
   "execution_count": 13,
   "id": "3e7cf6c2",
   "metadata": {},
   "outputs": [],
   "source": [
    "def run_shell_command(cmd):\n",
    "    out, err = subprocess.Popen(\n",
    "        cmd, stdout=subprocess.PIPE, stderr=subprocess.PIPE, shell=True\n",
    "    ).communicate()\n",
    "    if err:\n",
    "        return None\n",
    "    else:\n",
    "        return out.decode('utf-8')"
   ]
  },
  {
   "cell_type": "code",
   "execution_count": 14,
   "id": "59aef00a",
   "metadata": {},
   "outputs": [],
   "source": [
    "def get_cuda_info():\n",
    "    out = run_shell_command('nvcc --version')\n",
    "    if out:\n",
    "        envs['cuda_version'] = out.split('V')[-1].strip()\n",
    "    else:\n",
    "        envs['cuda_version'] = 'N/A'"
   ]
  },
  {
   "cell_type": "code",
   "execution_count": 15,
   "id": "50457180",
   "metadata": {},
   "outputs": [],
   "source": [
    "def get_cudnn_info():\n",
    "    def _get_cudnn_ver(cmd):\n",
    "        out = run_shell_command(cmd)\n",
    "        if out:\n",
    "            return out.split(' ')[-1].strip()\n",
    "        else:\n",
    "            return 'N/A'\n",
    "\n",
    "    if platform.system() == \"Windows\":\n",
    "        cudnn_dll_path = run_shell_command('where cudnn*')\n",
    "        if cudnn_dll_path:\n",
    "            cudnn_header_path = (\n",
    "                cudnn_dll_path.split('bin')[0] + r'include\\cudnn.h'\n",
    "            )\n",
    "            cmd = 'type \"{0}\" | findstr \"{1}\" | findstr /v \"CUDNN_VERSION\"'\n",
    "        else:\n",
    "            envs['cudnn_version'] = 'N/A'\n",
    "            return\n",
    "    else:\n",
    "        cudnn_header_path = run_shell_command(\n",
    "            'whereis \"cudnn.h\" | awk \\'{print $2}\\''\n",
    "        ).strip('\\n')\n",
    "        if cudnn_header_path:\n",
    "            cmd = 'cat \"{0}\" | grep \"{1}\" | grep -v \"CUDNN_VERSION\"'\n",
    "            if _get_cudnn_ver(cmd.format(cudnn_header_path, 'CUDNN_MAJOR')):\n",
    "                cudnn_header_path = run_shell_command(\n",
    "                    'whereis \"cudnn_version.h\" | awk \\'{print $2}\\''\n",
    "                ).strip('\\n')\n",
    "\n",
    "        else:\n",
    "            envs['cudnn_version'] = 'N/A'\n",
    "            return\n",
    "\n",
    "    major = _get_cudnn_ver(cmd.format(cudnn_header_path, 'CUDNN_MAJOR'))\n",
    "    minor = _get_cudnn_ver(cmd.format(cudnn_header_path, 'CUDNN_MINOR'))\n",
    "    patch_level = _get_cudnn_ver(\n",
    "        cmd.format(cudnn_header_path, 'CUDNN_PATCHLEVEL')\n",
    "    )\n",
    "\n",
    "    if major != 'N/A':\n",
    "        envs['cudnn_version'] = f\"{major}.{minor}.{patch_level}\"\n",
    "    else:\n",
    "        envs['cudnn_version'] = 'N/A'"
   ]
  },
  {
   "cell_type": "code",
   "execution_count": 16,
   "id": "cdc649b1",
   "metadata": {},
   "outputs": [],
   "source": [
    "def get_driver_info():\n",
    "    driver_ver = run_shell_command('nvidia-smi')\n",
    "    if driver_ver:\n",
    "        driver_ver = (\n",
    "            driver_ver.split('Driver Version:')[1].strip().split(' ')[0]\n",
    "        )\n",
    "    else:\n",
    "        driver_ver = 'N/A'\n",
    "    envs['nvidia_driver_version'] = driver_ver"
   ]
  },
  {
   "cell_type": "code",
   "execution_count": 17,
   "id": "ba40d47d",
   "metadata": {},
   "outputs": [],
   "source": [
    "def get_nvidia_gpu_driver():\n",
    "    if platform.system() != \"Windows\" and platform.system() != \"Linux\":\n",
    "        envs['nvidia_gpu_driver'] = 'N/A'\n",
    "        return\n",
    "    try:\n",
    "        nvidia_smi = 'nvidia-smi'\n",
    "        gpu_list = run_shell_command(nvidia_smi + \" -L\")\n",
    "        result = \"\\n\"\n",
    "        for gpu_info in gpu_list.split(\"\\n\"):\n",
    "            result += gpu_info.split(\" (UUID:\")[0] + \"\\n\"\n",
    "        envs['nvidia_gpu_driver'] = result\n",
    "    except:\n",
    "        envs['nvidia_gpu_driver'] = 'N/A'"
   ]
  },
  {
   "cell_type": "code",
   "execution_count": 18,
   "id": "0345d19f",
   "metadata": {},
   "outputs": [],
   "source": [
    "def main():\n",
    "    get_paddle_info()\n",
    "    get_os_info()\n",
    "    get_gcc_version()\n",
    "    get_clang_version()\n",
    "    get_cmake_version()\n",
    "    get_libc_version()\n",
    "    get_python_info()\n",
    "    get_cuda_info()\n",
    "    get_cudnn_info()\n",
    "    get_driver_info()\n",
    "    get_nvidia_gpu_driver()\n",
    "    print('*' * 40 + envs_template.format(**envs) + '*' * 40)"
   ]
  },
  {
   "cell_type": "code",
   "execution_count": 19,
   "id": "6519a630",
   "metadata": {},
   "outputs": [
    {
     "name": "stdout",
     "output_type": "stream",
     "text": [
      "****************************************\n",
      "Paddle version: 2.6.1\n",
      "Paddle With CUDA: True\n",
      "\n",
      "OS: Windows 10\n",
      "GCC version: N/A\n",
      "Clang version: N/A\n",
      "CMake version: N/A\n",
      "Libc version: N/A\n",
      "Python version: 3.10.15\n",
      "\n",
      "CUDA version: 12.6.85\r\n",
      "Build cuda_12.6.r12.6/compiler.35059454_0\n",
      "cuDNN version: N/A\n",
      "Nvidia driver version: 566.14\n",
      "Nvidia driver List: \n",
      "GPU 0: NVIDIA GeForce RTX 3050 Ti Laptop GPU\n",
      "\n",
      "\n",
      "****************************************\n"
     ]
    }
   ],
   "source": [
    "if __name__ == '__main__':\n",
    "    main()"
   ]
  },
  {
   "cell_type": "code",
   "execution_count": null,
   "id": "c88fcb20",
   "metadata": {},
   "outputs": [],
   "source": []
  }
 ],
 "metadata": {
  "jupytext": {
   "cell_metadata_filter": "-all",
   "main_language": "python",
   "notebook_metadata_filter": "-all"
  },
  "kernelspec": {
   "display_name": "Python 3 (ipykernel)",
   "language": "python",
   "name": "python3"
  },
  "language_info": {
   "codemirror_mode": {
    "name": "ipython",
    "version": 3
   },
   "file_extension": ".py",
   "mimetype": "text/x-python",
   "name": "python",
   "nbconvert_exporter": "python",
   "pygments_lexer": "ipython3",
   "version": "3.10.15"
  }
 },
 "nbformat": 4,
 "nbformat_minor": 5
}
